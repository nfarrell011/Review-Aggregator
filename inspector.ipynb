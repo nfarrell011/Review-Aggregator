{
 "cells": [
  {
   "cell_type": "code",
   "execution_count": 55,
   "metadata": {},
   "outputs": [],
   "source": [
    "import pandas as pd  \n",
    "from datetime import date\n",
    "from pathlib import Path\n",
    "import sys"
   ]
  },
  {
   "cell_type": "code",
   "execution_count": 60,
   "metadata": {},
   "outputs": [],
   "source": [
    "HOME = Path.cwd()\n",
    "PATH_TO_REVIEW_DATA = str(HOME / \"data/raw/open_table_review_data_Portland_ME_2024-05-30.csv\")\n",
    "PATH_TO_RES_DATA = str(HOME / \"data/raw/open_table_restaurant_data_Portland_ME_2024-05-30.csv\")"
   ]
  },
  {
   "cell_type": "code",
   "execution_count": 61,
   "metadata": {},
   "outputs": [],
   "source": [
    "review_df = pd.read_csv(PATH_TO_REVIEW_DATA)"
   ]
  },
  {
   "cell_type": "code",
   "execution_count": 62,
   "metadata": {},
   "outputs": [
    {
     "name": "stdout",
     "output_type": "stream",
     "text": [
      "<class 'pandas.core.frame.DataFrame'>\n",
      "RangeIndex: 16730 entries, 0 to 16729\n",
      "Data columns (total 11 columns):\n",
      " #   Column       Non-Null Count  Dtype \n",
      "---  ------       --------------  ----- \n",
      " 0   Unnamed: 0   16730 non-null  int64 \n",
      " 1   Overall      16730 non-null  int64 \n",
      " 2   Food         16730 non-null  int64 \n",
      " 3   Service      16730 non-null  int64 \n",
      " 4   Ambience     16730 non-null  int64 \n",
      " 5   review_text  16730 non-null  object\n",
      " 6   hometown     16730 non-null  object\n",
      " 7   datelike     16730 non-null  object\n",
      " 8   name         16726 non-null  object\n",
      " 9   res_name     16730 non-null  object\n",
      " 10  origins      16730 non-null  object\n",
      "dtypes: int64(5), object(6)\n",
      "memory usage: 1.4+ MB\n"
     ]
    }
   ],
   "source": [
    "review_df.info()"
   ]
  },
  {
   "cell_type": "code",
   "execution_count": 63,
   "metadata": {},
   "outputs": [],
   "source": [
    "res_df = pd.read_csv(PATH_TO_RES_DATA)"
   ]
  },
  {
   "cell_type": "code",
   "execution_count": 64,
   "metadata": {},
   "outputs": [
    {
     "name": "stdout",
     "output_type": "stream",
     "text": [
      "<class 'pandas.core.frame.DataFrame'>\n",
      "RangeIndex: 36 entries, 0 to 35\n",
      "Data columns (total 7 columns):\n",
      " #   Column           Non-Null Count  Dtype \n",
      "---  ------           --------------  ----- \n",
      " 0   Unnamed: 0       36 non-null     int64 \n",
      " 1   price_point      36 non-null     object\n",
      " 2   cuisine          36 non-null     object\n",
      " 3   description      36 non-null     object\n",
      " 4   tags             33 non-null     object\n",
      " 5   region           36 non-null     object\n",
      " 6   restaurant_name  36 non-null     object\n",
      "dtypes: int64(1), object(6)\n",
      "memory usage: 2.1+ KB\n"
     ]
    }
   ],
   "source": [
    "res_df.info()"
   ]
  },
  {
   "cell_type": "code",
   "execution_count": 65,
   "metadata": {},
   "outputs": [
    {
     "name": "stdout",
     "output_type": "stream",
     "text": [
      "0 Buffalo Wild Wings - South Portland\n",
      "1 Sea Dog Brewpub Scarborough\n",
      "2 The Corner Room\n",
      "3 David's Restaurant\n",
      "4 Solo Italiano\n",
      "5 REGARDS\n",
      "6 Isa Bistro - Portland\n",
      "7 The Front Room\n",
      "8 Eighteen95 at the Regency Hotel\n",
      "9 Local 188\n",
      "10 Kon Asian Bistro - Portland, ME\n",
      "11 The Armory Lounge at the Regency Hotel\n",
      "12 name_not_found\n",
      "13 Rick's Cafe\n",
      "14 David's 388\n",
      "15 The Frog and Turtle\n",
      "16 Earth at Hidden Pond\n",
      "17 The Chart Room at Black Point Inn\n",
      "18 Shade\n",
      "19 Uno Pizzeria &amp; Grill - S. Portland\n",
      "20 White Barn Inn\n",
      "21 Rosella\n",
      "22 The Tides Beach Club\n",
      "23 Muddy Rudder Yarmouth\n",
      "24 Chez Rosa\n",
      "25 Hurricane Restaurant - Kennebunkport\n",
      "26 Via Sophia by the Sea Kennebunk ME\n",
      "27 The Tiller Restaurant at Cliff House\n",
      "28 Toscana Chop House\n",
      "29 Cliff House - Terrace\n",
      "30 The Burleigh\n",
      "31 Clay Hill Farm\n",
      "32 Trenta\n",
      "33 Noble Kitchen + Bar\n",
      "34 Stripers - Kennebunkport\n",
      "35 Ann's Book Bistro\n"
     ]
    }
   ],
   "source": [
    "for i, j in enumerate(res_df['restaurant_name'].unique()):\n",
    "    print(i, j)"
   ]
  },
  {
   "cell_type": "code",
   "execution_count": 66,
   "metadata": {},
   "outputs": [
    {
     "name": "stdout",
     "output_type": "stream",
     "text": [
      "0 Buffalo Wild Wings - South Portland\n",
      "1 Sea Dog Brewpub Scarborough\n",
      "2 The Corner Room\n",
      "3 David's Restaurant\n",
      "4 Solo Italiano\n",
      "5 REGARDS\n",
      "6 Isa Bistro - Portland\n",
      "7 The Front Room\n",
      "8 Eighteen95 at the Regency Hotel\n",
      "9 Local 188\n",
      "10 Kon Asian Bistro - Portland, ME\n",
      "11 David's 388\n",
      "12 The Frog and Turtle\n",
      "13 Earth at Hidden Pond\n",
      "14 The Chart Room at Black Point Inn\n",
      "15 Shade\n",
      "16 Uno Pizzeria &amp; Grill - S. Portland\n",
      "17 White Barn Inn\n",
      "18 Rosella\n",
      "19 The Tides Beach Club\n",
      "20 Muddy Rudder Yarmouth\n",
      "21 Chez Rosa\n",
      "22 Hurricane Restaurant - Kennebunkport\n",
      "23 Via Sophia by the Sea Kennebunk ME\n",
      "24 The Tiller Restaurant at Cliff House\n",
      "25 Toscana Chop House\n",
      "26 Cliff House - Terrace\n",
      "27 The Burleigh\n",
      "28 Clay Hill Farm\n",
      "29 Trenta\n",
      "30 Noble Kitchen + Bar\n",
      "31 Stripers - Kennebunkport\n",
      "32 Ann's Book Bistro\n"
     ]
    }
   ],
   "source": [
    "for i, j in enumerate(review_df[\"res_name\"].unique()):\n",
    "    print(i, j)"
   ]
  },
  {
   "cell_type": "code",
   "execution_count": 67,
   "metadata": {},
   "outputs": [
    {
     "data": {
      "text/plain": [
       "res_name\n",
       "Ann's Book Bistro                          10\n",
       "Buffalo Wild Wings - South Portland        10\n",
       "Chez Rosa                                 140\n",
       "Clay Hill Farm                            790\n",
       "Cliff House - Terrace                      30\n",
       "David's 388                               790\n",
       "David's Restaurant                        790\n",
       "Earth at Hidden Pond                      790\n",
       "Eighteen95 at the Regency Hotel           310\n",
       "Hurricane Restaurant - Kennebunkport      790\n",
       "Isa Bistro - Portland                     790\n",
       "Kon Asian Bistro - Portland, ME           300\n",
       "Local 188                                 790\n",
       "Muddy Rudder Yarmouth                     680\n",
       "Noble Kitchen + Bar                       550\n",
       "REGARDS                                   180\n",
       "Rosella                                   150\n",
       "Sea Dog Brewpub Scarborough                20\n",
       "Shade                                     300\n",
       "Solo Italiano                             790\n",
       "Stripers - Kennebunkport                  790\n",
       "The Burleigh                              750\n",
       "The Chart Room at Black Point Inn         320\n",
       "The Corner Room                           790\n",
       "The Frog and Turtle                       790\n",
       "The Front Room                            410\n",
       "The Tides Beach Club                      790\n",
       "The Tiller Restaurant at Cliff House      790\n",
       "Toscana Chop House                        790\n",
       "Trenta                                     30\n",
       "Uno Pizzeria &amp; Grill - S. Portland     10\n",
       "Via Sophia by the Sea Kennebunk ME        680\n",
       "White Barn Inn                            790\n",
       "Name: review_text, dtype: int64"
      ]
     },
     "execution_count": 67,
     "metadata": {},
     "output_type": "execute_result"
    }
   ],
   "source": [
    "review_df.groupby('res_name')['review_text'].count()"
   ]
  },
  {
   "cell_type": "code",
   "execution_count": 68,
   "metadata": {},
   "outputs": [
    {
     "name": "stdout",
     "output_type": "stream",
     "text": [
      "Restaurants has: 36 restaurants\n",
      "Reviews has: 33 restaurants\n",
      "{\"Rick's Cafe\", 'name_not_found', 'The Armory Lounge at the Regency Hotel'}\n"
     ]
    }
   ],
   "source": [
    "res_rev = review_df['res_name'].unique()\n",
    "res = res_df['restaurant_name'].unique()\n",
    "\n",
    "print(f\"Restaurants has: {len(res)} restaurants\")\n",
    "print(f\"Reviews has: {len(res_rev)} restaurants\")\n",
    "\n",
    "dif = set(res) - set(res_rev)\n",
    "print(dif)\n"
   ]
  }
 ],
 "metadata": {
  "kernelspec": {
   "display_name": "base",
   "language": "python",
   "name": "python3"
  },
  "language_info": {
   "codemirror_mode": {
    "name": "ipython",
    "version": 3
   },
   "file_extension": ".py",
   "mimetype": "text/x-python",
   "name": "python",
   "nbconvert_exporter": "python",
   "pygments_lexer": "ipython3",
   "version": "3.11.8 | packaged by conda-forge | (main, Feb 16 2024, 20:49:36) [Clang 16.0.6 ]"
  },
  "orig_nbformat": 4,
  "vscode": {
   "interpreter": {
    "hash": "b31d6a8ecfd6b48ec0cf9da67896692b418c4a39f70d4f1a3880fdc530a94b5e"
   }
  }
 },
 "nbformat": 4,
 "nbformat_minor": 2
}
