{
 "cells": [
  {
   "cell_type": "code",
   "execution_count": 24,
   "metadata": {},
   "outputs": [],
   "source": [
    "import pandas as pd  \n",
    "from datetime import date\n",
    "from pathlib import Path\n",
    "import sys"
   ]
  },
  {
   "cell_type": "code",
   "execution_count": 27,
   "metadata": {},
   "outputs": [],
   "source": [
    "HOME = Path.cwd()\n",
    "PATH_TO_REVIEW_DATA = str(HOME / \"raw/open_table_review_data_Portland_ME_2024-05-28.csv\")\n",
    "PATH_TO_RES_DATA = str(HOME / \"raw/open_table_restaurant_data_Portland_ME_2024-05-28.csv\")"
   ]
  },
  {
   "cell_type": "code",
   "execution_count": 28,
   "metadata": {},
   "outputs": [],
   "source": [
    "review_df = pd.read_csv(PATH_TO_REVIEW_DATA)"
   ]
  },
  {
   "cell_type": "code",
   "execution_count": 29,
   "metadata": {},
   "outputs": [
    {
     "name": "stdout",
     "output_type": "stream",
     "text": [
      "<class 'pandas.core.frame.DataFrame'>\n",
      "RangeIndex: 16340 entries, 0 to 16339\n",
      "Data columns (total 11 columns):\n",
      " #   Column       Non-Null Count  Dtype \n",
      "---  ------       --------------  ----- \n",
      " 0   Unnamed: 0   16340 non-null  int64 \n",
      " 1   Overall      16340 non-null  int64 \n",
      " 2   Food         16340 non-null  int64 \n",
      " 3   Service      16340 non-null  int64 \n",
      " 4   Ambience     16340 non-null  int64 \n",
      " 5   review_text  16340 non-null  object\n",
      " 6   hometown     16340 non-null  object\n",
      " 7   datelike     16340 non-null  object\n",
      " 8   name         16338 non-null  object\n",
      " 9   res_name     16340 non-null  object\n",
      " 10  origins      16340 non-null  object\n",
      "dtypes: int64(5), object(6)\n",
      "memory usage: 1.4+ MB\n"
     ]
    }
   ],
   "source": [
    "review_df.info()"
   ]
  }
 ],
 "metadata": {
  "kernelspec": {
   "display_name": "base",
   "language": "python",
   "name": "python3"
  },
  "language_info": {
   "codemirror_mode": {
    "name": "ipython",
    "version": 3
   },
   "file_extension": ".py",
   "mimetype": "text/x-python",
   "name": "python",
   "nbconvert_exporter": "python",
   "pygments_lexer": "ipython3",
   "version": "3.11.8"
  },
  "orig_nbformat": 4,
  "vscode": {
   "interpreter": {
    "hash": "b31d6a8ecfd6b48ec0cf9da67896692b418c4a39f70d4f1a3880fdc530a94b5e"
   }
  }
 },
 "nbformat": 4,
 "nbformat_minor": 2
}
