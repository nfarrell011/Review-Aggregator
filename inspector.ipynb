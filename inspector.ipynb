{
 "cells": [
  {
   "cell_type": "code",
   "execution_count": 24,
   "metadata": {},
   "outputs": [],
   "source": [
    "import pandas as pd  \n",
    "from datetime import date\n",
    "from pathlib import Path\n",
    "import sys"
   ]
  },
  {
   "cell_type": "code",
   "execution_count": 27,
   "metadata": {},
   "outputs": [],
   "source": [
    "HOME = Path.cwd()\n",
    "PATH_TO_REVIEW_DATA = str(HOME / \"raw/open_table_review_data_Portland_ME_2024-05-28.csv\")\n",
    "PATH_TO_RES_DATA = str(HOME / \"raw/open_table_restaurant_data_Portland_ME_2024-05-28.csv\")"
   ]
  },
  {
   "cell_type": "code",
   "execution_count": 28,
   "metadata": {},
   "outputs": [],
   "source": [
    "review_df = pd.read_csv(PATH_TO_REVIEW_DATA)"
   ]
  },
  {
   "cell_type": "code",
   "execution_count": 29,
   "metadata": {},
   "outputs": [
    {
     "name": "stdout",
     "output_type": "stream",
     "text": [
      "<class 'pandas.core.frame.DataFrame'>\n",
      "RangeIndex: 16340 entries, 0 to 16339\n",
      "Data columns (total 11 columns):\n",
      " #   Column       Non-Null Count  Dtype \n",
      "---  ------       --------------  ----- \n",
      " 0   Unnamed: 0   16340 non-null  int64 \n",
      " 1   Overall      16340 non-null  int64 \n",
      " 2   Food         16340 non-null  int64 \n",
      " 3   Service      16340 non-null  int64 \n",
      " 4   Ambience     16340 non-null  int64 \n",
      " 5   review_text  16340 non-null  object\n",
      " 6   hometown     16340 non-null  object\n",
      " 7   datelike     16340 non-null  object\n",
      " 8   name         16338 non-null  object\n",
      " 9   res_name     16340 non-null  object\n",
      " 10  origins      16340 non-null  object\n",
      "dtypes: int64(5), object(6)\n",
      "memory usage: 1.4+ MB\n"
     ]
    }
   ],
   "source": [
    "review_df.info()"
   ]
  },
  {
   "cell_type": "code",
   "execution_count": 30,
   "metadata": {},
   "outputs": [],
   "source": [
    "res_df = pd.read_csv(PATH_TO_RES_DATA)"
   ]
  },
  {
   "cell_type": "code",
   "execution_count": 31,
   "metadata": {},
   "outputs": [
    {
     "name": "stdout",
     "output_type": "stream",
     "text": [
      "<class 'pandas.core.frame.DataFrame'>\n",
      "RangeIndex: 37 entries, 0 to 36\n",
      "Data columns (total 7 columns):\n",
      " #   Column           Non-Null Count  Dtype \n",
      "---  ------           --------------  ----- \n",
      " 0   Unnamed: 0       37 non-null     int64 \n",
      " 1   price_point      37 non-null     object\n",
      " 2   cuisine          37 non-null     object\n",
      " 3   description      37 non-null     object\n",
      " 4   tags             35 non-null     object\n",
      " 5   region           37 non-null     object\n",
      " 6   restaurant_name  37 non-null     object\n",
      "dtypes: int64(1), object(6)\n",
      "memory usage: 2.2+ KB\n"
     ]
    }
   ],
   "source": [
    "res_df.info()"
   ]
  },
  {
   "cell_type": "code",
   "execution_count": 48,
   "metadata": {},
   "outputs": [
    {
     "name": "stdout",
     "output_type": "stream",
     "text": [
      "0 Toscana Chop House\n",
      "1 REGARDS\n",
      "2 The Corner Room\n",
      "3 The Grill Room &amp; Bar\n",
      "4 Solo Italiano\n",
      "5 Bird &amp; Co.\n",
      "6 Little Tap House\n",
      "7 Sea Dog Brewing Co. - So. Portland\n",
      "8 David's 388\n",
      "9 MK Kitchen\n",
      "10 Uno Pizzeria &amp; Grill - S. Portland\n",
      "11 Sea Dog Brewpub Scarborough\n",
      "12 Rooftop at The Envio\n",
      "13 Row 34 - Portsmouth\n",
      "14 Hurricane Restaurant - Kennebunkport\n",
      "15 White Barn Inn\n",
      "16 The Tides Beach Club\n",
      "17 Noble Kitchen + Bar\n",
      "18 The Rail at La Stazione\n",
      "19 Trenta\n",
      "20 Jonathan's - Ogunquit\n",
      "21 Buffalo Wild Wings - Topsham\n",
      "22 Ristorante Massimo\n",
      "23 OTTO - Auburn\n",
      "24 Roberto's Restaurant\n",
      "25 Buffalo Wild Wings - Rochester\n",
      "26 Buffalo Wild Wings - Auburn\n",
      "27 Otto - Portsmouth\n",
      "28 Eighteen95 at the Regency Hotel\n",
      "29 Local 188\n",
      "30 David's Opus Ten\n",
      "31 Isa Bistro - Portland\n",
      "32 name_not_found\n",
      "33 Dunstan Tap And Table\n",
      "34 Rick's Cafe\n",
      "35 The Frog and Turtle\n"
     ]
    }
   ],
   "source": [
    "for i, j in enumerate(res_df['restaurant_name'].unique()):\n",
    "    print(i, j)"
   ]
  },
  {
   "cell_type": "code",
   "execution_count": 47,
   "metadata": {},
   "outputs": [
    {
     "name": "stdout",
     "output_type": "stream",
     "text": [
      "0 Toscana Chop House\n",
      "1 REGARDS\n",
      "2 The Corner Room\n",
      "3 The Grill Room &amp; Bar\n",
      "4 Solo Italiano\n",
      "5 Bird &amp; Co.\n",
      "6 Little Tap House\n",
      "7 Sea Dog Brewing Co. - So. Portland\n",
      "8 David's 388\n",
      "9 MK Kitchen\n",
      "10 Uno Pizzeria &amp; Grill - S. Portland\n",
      "11 Sea Dog Brewpub Scarborough\n",
      "12 Rooftop at The Envio\n",
      "13 Row 34 - Portsmouth\n",
      "14 Hurricane Restaurant - Kennebunkport\n",
      "15 White Barn Inn\n",
      "16 The Tides Beach Club\n",
      "17 Noble Kitchen + Bar\n",
      "18 The Rail at La Stazione\n",
      "19 Trenta\n",
      "20 Jonathan's - Ogunquit\n",
      "21 Buffalo Wild Wings - Topsham\n",
      "22 Ristorante Massimo\n",
      "23 Roberto's Restaurant\n",
      "24 Otto - Portsmouth\n",
      "25 Eighteen95 at the Regency Hotel\n",
      "26 Local 188\n",
      "27 David's Opus Ten\n",
      "28 Isa Bistro - Portland\n",
      "29 Dunstan Tap And Table\n",
      "30 The Frog and Turtle\n"
     ]
    }
   ],
   "source": [
    "for i, j in enumerate(review_df[\"res_name\"].unique()):\n",
    "    print(i, j)"
   ]
  },
  {
   "cell_type": "code",
   "execution_count": 51,
   "metadata": {},
   "outputs": [
    {
     "data": {
      "text/plain": [
       "res_name\n",
       "Bird &amp; Co.                             210\n",
       "Buffalo Wild Wings - Topsham                10\n",
       "David's 388                                790\n",
       "David's Opus Ten                           170\n",
       "Dunstan Tap And Table                      620\n",
       "Eighteen95 at the Regency Hotel            310\n",
       "Hurricane Restaurant - Kennebunkport       790\n",
       "Isa Bistro - Portland                      790\n",
       "Jonathan's - Ogunquit                      790\n",
       "Little Tap House                           350\n",
       "Local 188                                  790\n",
       "MK Kitchen                                 790\n",
       "Noble Kitchen + Bar                        550\n",
       "Otto - Portsmouth                           30\n",
       "REGARDS                                    180\n",
       "Ristorante Massimo                         790\n",
       "Roberto's Restaurant                       790\n",
       "Rooftop at The Envio                       360\n",
       "Row 34 - Portsmouth                        790\n",
       "Sea Dog Brewing Co. - So. Portland          30\n",
       "Sea Dog Brewpub Scarborough                 20\n",
       "Solo Italiano                              790\n",
       "The Corner Room                            790\n",
       "The Frog and Turtle                        790\n",
       "The Grill Room &amp; Bar                   790\n",
       "The Rail at La Stazione                     30\n",
       "The Tides Beach Club                       790\n",
       "Toscana Chop House                        1580\n",
       "Trenta                                      30\n",
       "Uno Pizzeria &amp; Grill - S. Portland      10\n",
       "White Barn Inn                             790\n",
       "Name: review_text, dtype: int64"
      ]
     },
     "execution_count": 51,
     "metadata": {},
     "output_type": "execute_result"
    }
   ],
   "source": [
    "review_df.groupby('res_name')['review_text'].count()"
   ]
  }
 ],
 "metadata": {
  "kernelspec": {
   "display_name": "base",
   "language": "python",
   "name": "python3"
  },
  "language_info": {
   "codemirror_mode": {
    "name": "ipython",
    "version": 3
   },
   "file_extension": ".py",
   "mimetype": "text/x-python",
   "name": "python",
   "nbconvert_exporter": "python",
   "pygments_lexer": "ipython3",
   "version": "3.11.8"
  },
  "orig_nbformat": 4,
  "vscode": {
   "interpreter": {
    "hash": "b31d6a8ecfd6b48ec0cf9da67896692b418c4a39f70d4f1a3880fdc530a94b5e"
   }
  }
 },
 "nbformat": 4,
 "nbformat_minor": 2
}
